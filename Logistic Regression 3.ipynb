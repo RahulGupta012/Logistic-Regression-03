{
 "cells": [
  {
   "cell_type": "markdown",
   "id": "5836bbea-6383-495d-b9bf-86a855f116b9",
   "metadata": {},
   "source": [
    "# LOGISTIC REGRESSON 03"
   ]
  },
  {
   "cell_type": "markdown",
   "id": "14a6b6c2-be1e-43e7-a767-042249942b3e",
   "metadata": {},
   "source": [
    "____________________________________________________"
   ]
  },
  {
   "cell_type": "markdown",
   "id": "889f2444-9bb9-41e5-9326-d796b52e34f3",
   "metadata": {},
   "source": [
    "#  Q1. Explain the concept of precision and recall in the context of classification models."
   ]
  },
  {
   "cell_type": "markdown",
   "id": "89db096d-7d86-4320-8a1e-66f19beafbd5",
   "metadata": {},
   "source": [
    "Precision and recall both are the performance matrics for classification problem, which are used to cheching the accuaracy of the classification models.\n",
    "\n",
    "There is one major difference between precision and recall is that, In precison the FP (False Postive) is considered as most important permeter amoung all . Precision gives preference to FP in respect to the other values.\n",
    "\n",
    "precison = TP/ TP + FP\n",
    "\n",
    "While in the Recall, the value of FN has considered as most important perameter. It aims that ; out of all the predicted values how many values are correctly predicted with the actual values.\n",
    "\n",
    "Reacll = TP / TP + FN"
   ]
  },
  {
   "cell_type": "markdown",
   "id": "5e6bd57b-1b0e-46d8-aa49-b4f88739b440",
   "metadata": {},
   "source": [
    "# Q2. What is the F1 score and how is it calculated? How is it different from precision and recall?"
   ]
  },
  {
   "cell_type": "markdown",
   "id": "92d725e0-0327-49f7-9ee8-febfdb0e5f66",
   "metadata": {},
   "source": [
    "F1 score is basically the combination of precision and recall, to finding the accuracy of classification models . When precision gives the importance to the FP(False Positive ) value for calculating the impact of false predictions, and recall considers FN(False Negative) as a prominent factor for calculating the performance metrics , wether F1 is emphaises on both FP and FN permeter in account of calculating the performance of model. The farmula of f- Beta score =\n",
    "\n",
    "(1 + BETA^2) * (Precision * Recall / Precision + Recall)"
   ]
  },
  {
   "cell_type": "markdown",
   "id": "3e5f8a16-dfbe-4666-90e5-b41b4b37fcfd",
   "metadata": {},
   "source": [
    "# Q3. How do you choose the best metric to evaluate the performance of a classification model?"
   ]
  },
  {
   "cell_type": "markdown",
   "id": "48215d08-dfcb-4587-8c3b-56fa970b53ce",
   "metadata": {},
   "source": [
    "There is not any way to select a certain for evaluating the performance of our classification model but there are some assumptions by which we can make an idea of selecting the matrix for evaluating the perforamnce of our model according to the needs and situations  ;\n",
    "\n",
    "Precision and recall: If the problem requires minimizing false positives or false negatives, these metrics are useful.as we discussed above.\n",
    "\n",
    "F1 score: When false positive aand false negative both are equally important then F1 score is a good choice.\n",
    "\n",
    "ROC and AUC: These metrics are suitable when the classification threshold is adjustable, and you want to analyze the trade-off between true positive rate(TP) and false positive(FP) rate. When the data is imbalanced then ROC and Auc can play a better role.\n"
   ]
  },
  {
   "cell_type": "markdown",
   "id": "5d79b5d3-a2b3-4396-a7d7-1b46804d3c75",
   "metadata": {},
   "source": [
    "# Q4.What is multiclass classification and how is it different from binary classification?"
   ]
  },
  {
   "cell_type": "markdown",
   "id": "3f008c01-b1e3-4111-abad-39cf47ef9075",
   "metadata": {},
   "source": [
    "Multiclass classification involves categorizing data into more than two classes. For example, assigning objects in the input data to one of several predefined categories.\n",
    "\n",
    "While in binary class, the given data set has devided into two classes , for example : thir are two type of mails in mail section ...'mail is spam' and 'mail is not a spam'. we can reprent to 'mail is spam' as 1 and 'mail is not spam' as 0."
   ]
  },
  {
   "cell_type": "markdown",
   "id": "1712d18b-4d18-4ca6-bae4-eeb7ba33b2c8",
   "metadata": {},
   "source": [
    "# Q5. Explain how logistic regression can be used for multiclass classification."
   ]
  },
  {
   "cell_type": "markdown",
   "id": "924bb928-e6d9-4283-bc22-53c9490ea729",
   "metadata": {},
   "source": [
    "For understanding the multiclass classification process in logistic regression, firstly we need to know the binary class classification as the multiclass classifiacation is build on the binary class.Logistic regression gerneally use for categorical dependent features,In binary class genbrally predict \"yes\" or \"no\"(means two classes) in dependent feature for example if the person has typhoid we indicate it as 1 and if he hadn't then we indicate it as 0. \n",
    "\n",
    "The multiclass classifiaction is based on this binary technique. As we considered that feature as one and rest 0, in which we are working..and by going through all the features one by one ...considering each 1 one by one..and get the final result.\n",
    "\n",
    "For example there are four features ; car , bike ,cycle, bus . when we are on car feture we take 1 as car and rest 0 means bike,cycle and bus are 0. at the end by evaluting all the feature we just have remain two features as 0 and 1 (The condtion of binary) and by evaluting these 0 and 1 we got our predictions."
   ]
  },
  {
   "cell_type": "markdown",
   "id": "f40eb52e-390c-4a29-acf3-2ad3c3d1d7e3",
   "metadata": {},
   "source": [
    "# Q6. Describe the steps involved in an end-to-end project for multiclass classification."
   ]
  },
  {
   "cell_type": "markdown",
   "id": "e846fc12-18d4-4fb6-ad60-52a122f34377",
   "metadata": {},
   "source": [
    "These are the following steps to end to end project in multiclass classifiaction:\n",
    "\n",
    "Data Collection : Collecting the data from the sourses such as ; seaborn , sklearn and ohter lib as well as web sourses.\n",
    "\n",
    "Converting the data to appropriate formate : if the given data is in the form of data frame, then it is well and good . but if not then we need to change it with the help of pandas functions. It is a point to note that the target varibale or dependent feature should always in a array formate.\n",
    "\n",
    "Splitting the data : Then moving one step further we need to split the data in between train data and test data: for that we need to define 4 varibales - x_train , y_train , x_test, y_test. We using the train_test_split function of sklearn libarary for doing this.\n",
    "\n",
    "EDA and Feature Engeenearing : Now we need to do the exploratary data analysis, in which we need to visulazing the data. Applying the statistic function to see the correleations and beasic info of the data. In feature Engeenearing we need to make the data ready for model. Doing some basic cleaning like finding the null value if exist and fill it with various ways by imputation techniques. Using the upasampling and downsamplaing for imbalanced data set if required. If the features has outliers and values are too big then also use the scaling techniques as standered scaling.\n",
    "\n",
    "Train the Model : After doing all these thing we are going to train our data with the logistic regression. There are some libraries as sklearn by which we can easily train our data with the help of  x_train and y_train. After this process we are going for predict varible which is used in performance checking. \n",
    "\n",
    "Hyperperameter Tunning : By usning the hyperperameter tunning we can incresed of model performance, many types of cross validation are also take part on this and improving the health of the model . we can use Grid Search cv and randomized search for such opreations.\n",
    "\n",
    "Testing the performance : After completing the training of the data, we need to check the performance of our model so we can decide the best perameters for the model and make it better to more better. for this we are using performance matrics as confusion matrix , recall, beta score band precision.\n",
    "\n",
    "Deploy the model: After completening the all steps ..it is time to deploy the projct on the cloud.\n"
   ]
  },
  {
   "cell_type": "markdown",
   "id": "08a2a93e-700d-4b58-9117-7208f1ed038b",
   "metadata": {},
   "source": [
    "# Q7. What is model deployment and why is it important?"
   ]
  },
  {
   "cell_type": "markdown",
   "id": "1b9581f7-78a1-4a39-8812-3fda0ef86d39",
   "metadata": {},
   "source": [
    "The model deployment is basically composing a model to a server, it takes the infratucture according the data stored in it and enable the access of that server from an another loaction.It is also prmote the reusibility of the models.We make understood our code to the server such like that it is working like our model. When we go to that server and demands the output of giving inputs then it will predict the values for us. "
   ]
  },
  {
   "cell_type": "markdown",
   "id": "c989b439-8488-4880-a170-1eeaf30ec510",
   "metadata": {},
   "source": [
    "# Q8. Explain how multi-cloud platforms are used for model deployment."
   ]
  },
  {
   "cell_type": "markdown",
   "id": "be4cb7a0-2f13-4bbd-a556-34f4105cdefc",
   "metadata": {},
   "source": [
    "A multi-cloud deployment model uses multiple cloud service providers to distribute workloads and applications across different clouds. Some examples of cloud service providers include: Microsoft Azure, Amazon AWS, Google Cloud.. It’s similar to the hybrid cloud deployment approach, which combines public and private cloud resources. Instead of merging private and public clouds, multi-cloud uses many public clouds. Although public cloud providers provide numerous tools to improve the reliability of their services, mishaps still occur."
   ]
  },
  {
   "cell_type": "markdown",
   "id": "9aeda6a6-ec5f-4798-ad6c-e91d92191406",
   "metadata": {},
   "source": [
    "# Q9. Explaining the disadvantages of Multi-Cloud Deployment"
   ]
  },
  {
   "cell_type": "markdown",
   "id": "6f5e55e0-8d99-4413-87e2-c6450613724c",
   "metadata": {},
   "source": [
    "Disadvantages of the Multi-Cloud Model;\n",
    "\n",
    "Complex: The combination of many clouds makes the system complex and bottlenecks may occur.\n",
    "\n",
    "Security issue: Due to the complex structure, there may be loopholes to which a hacker can take advantage hence, makes the data insecure."
   ]
  },
  {
   "cell_type": "code",
   "execution_count": null,
   "id": "b3d01d18-6c2e-42d1-aa34-afb7fe38abf5",
   "metadata": {},
   "outputs": [],
   "source": []
  }
 ],
 "metadata": {
  "kernelspec": {
   "display_name": "Python 3 (ipykernel)",
   "language": "python",
   "name": "python3"
  },
  "language_info": {
   "codemirror_mode": {
    "name": "ipython",
    "version": 3
   },
   "file_extension": ".py",
   "mimetype": "text/x-python",
   "name": "python",
   "nbconvert_exporter": "python",
   "pygments_lexer": "ipython3",
   "version": "3.10.8"
  }
 },
 "nbformat": 4,
 "nbformat_minor": 5
}
